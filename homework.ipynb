{
 "cells": [
  {
   "cell_type": "markdown",
   "metadata": {},
   "source": [
    "First Assignment - Function that gets a number, and returns the factorial (4*3*2*1)"
   ]
  },
  {
   "cell_type": "code",
   "execution_count": 23,
   "metadata": {},
   "outputs": [
    {
     "data": {
      "text/plain": [
       "120"
      ]
     },
     "execution_count": 23,
     "metadata": {},
     "output_type": "execute_result"
    }
   ],
   "source": [
    "def getFact(number):\n",
    "    if number == 1:\n",
    "        return 1 # If the number is 1: 1*1=1\n",
    "    else:\n",
    "        return number * getFact(number-1) # Take the number and multiply with variable-1 to time it by value-1, until reaching 1. \n",
    "\n",
    "getFact(5)"
   ]
  },
  {
   "cell_type": "markdown",
   "metadata": {},
   "source": [
    "Second Assignment - Function that gets an unknown amount of variables and returns the biggest value. "
   ]
  },
  {
   "cell_type": "code",
   "execution_count": 24,
   "metadata": {},
   "outputs": [
    {
     "data": {
      "text/plain": [
       "('Answer for Q2', 10)"
      ]
     },
     "execution_count": 24,
     "metadata": {},
     "output_type": "execute_result"
    }
   ],
   "source": [
    "def biggestNumber(*numbers):\n",
    "  return 'Answer for Q2',max(numbers) # max() function in Py retrieves the biggest value in the array. \n",
    "\n",
    "biggestNumber(1,2,3,4,5,6,7,8,9,10) # runs function with numbers in array. "
   ]
  },
  {
   "cell_type": "markdown",
   "metadata": {},
   "source": [
    "Third Assignment: Function that gets a number + unknown amount of variables and counts the amount of times it appears inside of the unknown amount of variables. "
   ]
  },
  {
   "cell_type": "code",
   "execution_count": 25,
   "metadata": {},
   "outputs": [
    {
     "name": "stdout",
     "output_type": "stream",
     "text": [
      "0\n"
     ]
    }
   ],
   "source": [
    "def calcaulateAmountInArr(number1, *allnumbers):\n",
    "    count = 0 # counts start at 0 = neutral\n",
    "    for i in allnumbers: # adds a variable to compare values \n",
    "        if number1 == i: # if first variable equals to second variable,\n",
    "            count += 1 # add 1 to the count. \n",
    "    return count # count amount of times the number appears in the array. \n",
    "\n",
    "\n",
    "print(calcaulateAmountInArr(1, 2, 3))"
   ]
  },
  {
   "cell_type": "code",
   "execution_count": 31,
   "metadata": {},
   "outputs": [
    {
     "name": "stdout",
     "output_type": "stream",
     "text": [
      "2\n"
     ]
    }
   ],
   "source": [
    "def calculateWords(value1, *allwords):\n",
    "    count = 0\n",
    "    for y in allwords:\n",
    "        if value1 == y:\n",
    "            count += 1\n",
    "    return count\n",
    "\n",
    "print(calculateWords('Dog', 'Cat', 'Wolf', 'Dog', 'Dog'))"
   ]
  }
 ],
 "metadata": {
  "kernelspec": {
   "display_name": "Python 3.10.6 64-bit",
   "language": "python",
   "name": "python3"
  },
  "language_info": {
   "codemirror_mode": {
    "name": "ipython",
    "version": 3
   },
   "file_extension": ".py",
   "mimetype": "text/x-python",
   "name": "python",
   "nbconvert_exporter": "python",
   "pygments_lexer": "ipython3",
   "version": "3.10.6"
  },
  "orig_nbformat": 4,
  "vscode": {
   "interpreter": {
    "hash": "aee8b7b246df8f9039afb4144a1f6fd8d2ca17a180786b69acc140d282b71a49"
   }
  }
 },
 "nbformat": 4,
 "nbformat_minor": 2
}
